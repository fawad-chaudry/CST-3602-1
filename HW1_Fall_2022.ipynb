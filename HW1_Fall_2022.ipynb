{
  "nbformat": 4,
  "nbformat_minor": 0,
  "metadata": {
    "colab": {
      "provenance": [],
      "collapsed_sections": []
    },
    "kernelspec": {
      "name": "python3",
      "display_name": "Python 3"
    },
    "language_info": {
      "name": "python"
    }
  },
  "cells": [
    {
      "cell_type": "markdown",
      "source": [
        "# Assignment 1\n",
        "\n",
        "* due Thursday, September 29, 10am, before the class; \n",
        "* 20 points;\n",
        "* only electronic submissions (IPYNB file) will be accepted;\n",
        "* no late submissions are allowed; \n",
        "* this is an individual assignment; \n",
        "* the submitted file should be named YourLastName_HW1.ipynb;\n",
        "* do not forget to upload all the necessary libraries; \n",
        "* before the submission, clean the outputs and restart the notebook to make sure that everything runs as intended. "
      ],
      "metadata": {
        "id": "1IMW7VTz6MZk"
      }
    },
    {
      "cell_type": "markdown",
      "source": [
        "# Problem Statement: \n",
        "\n",
        "For this assignment, you will work with several data sets from the [Gapminder](gapminder.org) resource.\n",
        "\n",
        "Before you start analyzing the data, watch Hans Rosling’s talk about [“Why the world population won’t exceed 11 billion”](https://www.youtube.com/watch?v=2LyzBoHo5EI). Feel free to watch more of Hans Rosling’s talks about the world demographics and what aspects of life affect the number of children in each particular country and in the world.\n",
        "\n",
        "You will use the data collected by Gapminder, an organization started by Hans Rosling, to provide the support for his ideas. \n",
        "\n",
        "Before you can get to the visualization, answer the first two of the following questions (based on the video): \n",
        "\n",
        "1. What is the world population number predicted in the talk and with what average number of children per woman this word population number will be achieved?\n",
        "\n",
        "> a. (1 point) Download the Babies Per Woman CSV file from https://www.gapminder.org/data/;\n",
        "\n",
        "> b. (1 point) In your notebook, create a `df` dataframe with the data from the CSV file.\n",
        "\n",
        "> > i. If you opt to upload the assignment files locally, submit these files via blackboard together with your notebook;\n",
        "\n",
        "> > ii. If you opt to store the assignment files online and upload them dynamically, make sure that these files are accessible by anyone who has the link.  \n",
        "\n",
        "> c. (3 points) Use a line plot (`seaborn` or `matplotlib`) to show a trajectory (trajectories) that supports your answer to the question. \n",
        "\n",
        "2. How does the child mortality rate in the country affect the number of children per woman in this country?\n",
        "\n",
        "> a. (1 point) Download the Child Mortality and the Income CSV files from \n",
        "https://www.gapminder.org/data/\n",
        "\n",
        "> b. (1 point) In your notebook, create an `childmortality` and `income` dataframes with the data from the corresponding CSV files. \n",
        "\n",
        "> > i.\tIf you opt to upload the assignment files locally, submit these files via blackboard together with your notebook;\n",
        "\n",
        "> > ii. If you opt to store the assignment files online and upload them dynamically, make sure that these files are accessible by anyone who has the link.  \n",
        "\n",
        "3. (3 points) For each of the three created dataframes, keep only the data that corresponds to **2020**, and merge these three dataframes into one data dataframe that corresponds to the year 2020 and has four attributes: `Country`, `ChildPerWoman`, `ChildMortality`, `Income`. Merging dataframes corresponds to joining tables in SQL (https://pandas.pydata.org/docs/dev/user_guide/merging.html).\n",
        "\n",
        "> a.\t(2 points) Pay attention to the `Income` attribute, make sure that it can be used as an number (Hint: initially it cannot be used as a string because it contains the letter *k* for 1000).\n",
        "\n",
        "> b.\tName the resulting dataframe `result`.\n",
        "\n",
        "4. (1 point) Use the geography information from the Gapminder (https://docs.google.com/spreadsheets/d/1qHalit8sXC0R8oVXibc2wa2gY7bkwGzOybEMTWp-08o/edit#gid=501532268). I stored the information from the list-of-countries-etc tab here: https://github.com/ef2020/TextFiles/blob/master/gap_minder_geography.csv (do not forget to switch to the raw version of the file).\n",
        "\n",
        "> a.\tStore the geography information in `geo` data frame\n",
        "\n",
        "5. (2 points) Update the `result` dataframe by merging it with the `geo` dataframe. \n",
        "\n",
        "6. (4 points) Create a bubble chart that will demonstrate the connection the income and number of children (x and y axis); the size of the bubble corresponds to the child mortality rate; the color of the bubble corresponds to the value of the four-regions attribute from the geo dataframe. \n",
        "\n",
        "7. (1 point) What conclusions can you make?\n"
      ],
      "metadata": {
        "id": "rueMy2gP643k"
      }
    },
    {
      "cell_type": "code",
      "execution_count": null,
      "metadata": {
        "id": "zAo74o5e6LPd"
      },
      "outputs": [],
      "source": []
    }
  ]
}